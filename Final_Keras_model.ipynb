{
  "nbformat": 4,
  "nbformat_minor": 0,
  "metadata": {
    "colab": {
      "name": "Final_Keras_model.ipynb",
      "provenance": [],
      "toc_visible": true
    },
    "kernelspec": {
      "name": "python3",
      "display_name": "Python 3"
    },
    "language_info": {
      "name": "python"
    }
  },
  "cells": [
    {
      "cell_type": "code",
      "execution_count": 393,
      "metadata": {
        "id": "_AHr2MEREnEi"
      },
      "outputs": [],
      "source": [
        "# import pandas library used for importing data and data manipulation and numpy library for computation.\n",
        "import pandas as pd\n",
        "import numpy as np\n",
        "#read the data\n",
        "train_data = pd.read_csv('/content/drive/MyDrive/Colab Notebooks/Data for Text Classification task-20220302/train.csv')\n",
        "test_data = pd.read_csv('/content/drive/MyDrive/Colab Notebooks/Data for Text Classification task-20220302/train.csv')\n",
        "val_data = pd.read_csv('/content/drive/MyDrive/Colab Notebooks/Data for Text Classification task-20220302/val.csv')"
      ]
    },
    {
      "cell_type": "code",
      "source": [
        "from google.colab import drive\n",
        "drive.mount('/content/drive')"
      ],
      "metadata": {
        "id": "O4S1OQEYlcI8",
        "colab": {
          "base_uri": "https://localhost:8080/"
        },
        "outputId": "c52484c4-ff00-4e84-fa8d-673ceb69bf53"
      },
      "execution_count": 394,
      "outputs": [
        {
          "output_type": "stream",
          "name": "stdout",
          "text": [
            "Drive already mounted at /content/drive; to attempt to forcibly remount, call drive.mount(\"/content/drive\", force_remount=True).\n"
          ]
        }
      ]
    },
    {
      "cell_type": "code",
      "source": [
        "# Make the datasets dataframes and add labels to the columns\n",
        "train_data = pd.DataFrame(train_data)\n",
        "train_data.columns=['sentence','label']\n",
        "\n",
        "test_data =  pd.DataFrame(test_data)\n",
        "test_data.columns=['sentence','label']\n",
        "\n",
        "val_data = pd.DataFrame(val_data)\n",
        "val_data.columns=['sentence','label']\n",
        "\n",
        "print(train_data.info())\n",
        "print(test_data.info())\n",
        "print(val_data.info())"
      ],
      "metadata": {
        "id": "dRQ4CPvYGPQf",
        "colab": {
          "base_uri": "https://localhost:8080/"
        },
        "outputId": "9621bfc5-8a3d-4118-d01f-09aebbb6543d"
      },
      "execution_count": 395,
      "outputs": [
        {
          "output_type": "stream",
          "name": "stdout",
          "text": [
            "<class 'pandas.core.frame.DataFrame'>\n",
            "RangeIndex: 1399 entries, 0 to 1398\n",
            "Data columns (total 2 columns):\n",
            " #   Column    Non-Null Count  Dtype \n",
            "---  ------    --------------  ----- \n",
            " 0   sentence  1399 non-null   object\n",
            " 1   label     1399 non-null   int64 \n",
            "dtypes: int64(1), object(1)\n",
            "memory usage: 22.0+ KB\n",
            "None\n",
            "<class 'pandas.core.frame.DataFrame'>\n",
            "RangeIndex: 1399 entries, 0 to 1398\n",
            "Data columns (total 2 columns):\n",
            " #   Column    Non-Null Count  Dtype \n",
            "---  ------    --------------  ----- \n",
            " 0   sentence  1399 non-null   object\n",
            " 1   label     1399 non-null   int64 \n",
            "dtypes: int64(1), object(1)\n",
            "memory usage: 22.0+ KB\n",
            "None\n",
            "<class 'pandas.core.frame.DataFrame'>\n",
            "RangeIndex: 199 entries, 0 to 198\n",
            "Data columns (total 2 columns):\n",
            " #   Column    Non-Null Count  Dtype \n",
            "---  ------    --------------  ----- \n",
            " 0   sentence  199 non-null    object\n",
            " 1   label     199 non-null    int64 \n",
            "dtypes: int64(1), object(1)\n",
            "memory usage: 3.2+ KB\n",
            "None\n"
          ]
        }
      ]
    },
    {
      "cell_type": "code",
      "source": [
        "# Set the data into feature and target variables then transform them to arrays to ease working.\n",
        "X_train = train_data['sentence'].values\n",
        "y_train = train_data['label'].values\n",
        "X_test = test_data['sentence'].values\n",
        "y_test = test_data['label'].values\n",
        "X_val = val_data['sentence'].values\n",
        "y_val = val_data['label'].values"
      ],
      "metadata": {
        "id": "qfpjjMNdNWqZ"
      },
      "execution_count": 396,
      "outputs": []
    },
    {
      "cell_type": "code",
      "source": [
        "#vectorize the  sentences using scikit-learn library\n",
        "from sklearn.feature_extraction.text import CountVectorizer\n",
        "\n",
        "vectorizer = CountVectorizer()\n",
        "vectorizer.fit(X_train)\n",
        "\n",
        "X_train = vectorizer.transform(X_train)\n",
        "X_test  = vectorizer.transform(X_test)\n",
        "X_val = vectorizer.transform(X_val)\n",
        "X_train"
      ],
      "metadata": {
        "id": "VBdX1yHPOP43",
        "colab": {
          "base_uri": "https://localhost:8080/"
        },
        "outputId": "a76d6fcd-c712-457e-d4db-2b70d710e366"
      },
      "execution_count": 397,
      "outputs": [
        {
          "output_type": "execute_result",
          "data": {
            "text/plain": [
              "<1399x34431 sparse matrix of type '<class 'numpy.int64'>'\n",
              "\twith 468775 stored elements in Compressed Sparse Row format>"
            ]
          },
          "metadata": {},
          "execution_count": 397
        }
      ]
    },
    {
      "cell_type": "code",
      "source": [
        "#add layers in order to build a sequential model\n",
        "from keras.models import Sequential\n",
        "from keras import layers\n",
        "\n",
        "input_dim = X_train.shape[1]  # Number of features\n",
        "\n",
        "model = Sequential()\n",
        "model.add(layers.Dense(16, input_dim=input_dim, activation='relu'))\n",
        "model.add(layers.Dense(1, activation='sigmoid'))\n"
      ],
      "metadata": {
        "id": "TPCx8CIkQcsp"
      },
      "execution_count": 398,
      "outputs": []
    },
    {
      "cell_type": "code",
      "source": [
        "# compile the model\n",
        "model.compile(loss='binary_crossentropy', \n",
        "              optimizer='adam', \n",
        "              metrics=['accuracy'])\n",
        "model.summary()"
      ],
      "metadata": {
        "id": "fpCNQn3WQt4s",
        "colab": {
          "base_uri": "https://localhost:8080/"
        },
        "outputId": "b9e2727b-7099-4be5-8619-5cc91e818a34"
      },
      "execution_count": 399,
      "outputs": [
        {
          "output_type": "stream",
          "name": "stdout",
          "text": [
            "Model: \"sequential_34\"\n",
            "_________________________________________________________________\n",
            " Layer (type)                Output Shape              Param #   \n",
            "=================================================================\n",
            " dense_66 (Dense)            (None, 16)                550912    \n",
            "                                                                 \n",
            " dense_67 (Dense)            (None, 1)                 17        \n",
            "                                                                 \n",
            "=================================================================\n",
            "Total params: 550,929\n",
            "Trainable params: 550,929\n",
            "Non-trainable params: 0\n",
            "_________________________________________________________________\n"
          ]
        }
      ]
    },
    {
      "cell_type": "code",
      "source": [
        "# train the model\n",
        "history = model.fit(X_train, y_train,\n",
        "                   epochs=3,\n",
        "                   verbose=False,\n",
        "                   validation_data=(X_val,y_val),\n",
        "                   batch_size=16)"
      ],
      "metadata": {
        "id": "oef0c-bLQvwF",
        "colab": {
          "base_uri": "https://localhost:8080/"
        },
        "outputId": "1d1bf4f7-07b7-49ee-9fc5-912fc2099583"
      },
      "execution_count": 400,
      "outputs": [
        {
          "output_type": "stream",
          "name": "stderr",
          "text": [
            "/usr/local/lib/python3.7/dist-packages/tensorflow/python/framework/indexed_slices.py:446: UserWarning: Converting sparse IndexedSlices(IndexedSlices(indices=Tensor(\"gradient_tape/sequential_34/dense_66/embedding_lookup_sparse/Reshape_1:0\", shape=(None,), dtype=int32), values=Tensor(\"gradient_tape/sequential_34/dense_66/embedding_lookup_sparse/Reshape:0\", shape=(None, 16), dtype=float32), dense_shape=Tensor(\"gradient_tape/sequential_34/dense_66/embedding_lookup_sparse/Cast:0\", shape=(2,), dtype=int32))) to a dense Tensor of unknown shape. This may consume a large amount of memory.\n",
            "  \"shape. This may consume a large amount of memory.\" % value)\n"
          ]
        }
      ]
    },
    {
      "cell_type": "code",
      "source": [
        "#Get the accuracy of the model\n",
        "loss, accuracy = model.evaluate(X_train, y_train, verbose=False)\n",
        "print(\"Training Accuracy: {:.4f}\".format(accuracy))\n",
        "loss, accuracy = model.evaluate(X_test, y_test, verbose=False)\n",
        "print(\"Testing Accuracy:  {:.4f}\".format(accuracy))\n",
        "loss, accuracy = model.evaluate(X_val, y_val, verbose=False)\n",
        "print(\"Testing Accuracy:  {:.4f}\".format(accuracy))"
      ],
      "metadata": {
        "id": "2HAgeuvtRH1c",
        "colab": {
          "base_uri": "https://localhost:8080/"
        },
        "outputId": "39c17d95-3666-4b7e-83f4-257439fdfa30"
      },
      "execution_count": 401,
      "outputs": [
        {
          "output_type": "stream",
          "name": "stdout",
          "text": [
            "Training Accuracy: 1.0000\n",
            "Testing Accuracy:  1.0000\n",
            "Testing Accuracy:  0.8442\n"
          ]
        }
      ]
    },
    {
      "cell_type": "code",
      "source": [
        "import matplotlib.pyplot as plt\n",
        "plt.style.use('ggplot')\n",
        "\n"
      ],
      "metadata": {
        "id": "Bvdakr-4UST1"
      },
      "execution_count": 402,
      "outputs": []
    },
    {
      "cell_type": "code",
      "source": [
        "def plot_history(history):\n",
        "    acc = history.history['accuracy']\n",
        "    val_acc = history.history['val_accuracy']\n",
        "    loss = history.history['loss']\n",
        "    val_loss = history.history['val_loss']\n",
        "    x = range(1, len(acc) + 1)\n",
        "\n",
        "    plt.figure(figsize=(12, 5))\n",
        "    plt.subplot(1, 2, 1)\n",
        "    plt.plot(x, acc, 'b', label='Training acc')\n",
        "    plt.plot(x, val_acc, 'r', label='Validation acc')\n",
        "    plt.title('Training and validation accuracy')\n",
        "    plt.xlabel('epoch')\n",
        "    plt.ylabel('accuracy')\n",
        "    plt.legend()\n",
        "    plt.subplot(1, 2, 2)\n",
        "    plt.plot(x, loss, 'b', label='Training loss')\n",
        "    plt.plot(x, val_loss, 'r', label='Validation loss')\n",
        "    plt.title('Training and validation loss')\n",
        "    plt.xlabel('epoch')\n",
        "    plt.ylabel('loss')\n",
        "    plt.legend()"
      ],
      "metadata": {
        "id": "0CFpaX_yDIc-"
      },
      "execution_count": 403,
      "outputs": []
    },
    {
      "cell_type": "code",
      "source": [
        "plot_history(history)"
      ],
      "metadata": {
        "id": "fI8GndngDNoC",
        "colab": {
          "base_uri": "https://localhost:8080/",
          "height": 354
        },
        "outputId": "ddc54fde-c5fc-4068-b117-8aac12bbf0fc"
      },
      "execution_count": 404,
      "outputs": [
        {
          "output_type": "display_data",
          "data": {
            "text/plain": [
              "<Figure size 864x360 with 2 Axes>"
            ],
            "image/png": "[encoded data removed]"
          },
          "metadata": {}
        }
      ]
    }
  ]
}